{
 "cells": [
  {
   "cell_type": "code",
   "execution_count": 2,
   "metadata": {},
   "outputs": [
    {
     "name": "stdout",
     "output_type": "stream",
     "text": [
      "Python Version: 3.7.6 (default, Jan  8 2020, 13:42:34) \n",
      "[Clang 4.0.1 (tags/RELEASE_401/final)]\n"
     ]
    }
   ],
   "source": [
    "import sys\n",
    "print(\"Python Version:\", sys.version)\n",
    "\n",
    "import pandas as pd\n",
    "import numpy as np\n",
    "import matplotlib.pyplot as plt\n",
    "from datetime import datetime\n",
    "import seaborn as sns\n",
    "import folium\n",
    "from folium.plugins import MarkerCluster\n",
    "pd.set_option('display.max_rows', 500)\n",
    "%matplotlib inline\n",
    "%config InlineBackend.figure_format = 'svg'"
   ]
  },
  {
   "cell_type": "code",
   "execution_count": 3,
   "metadata": {},
   "outputs": [],
   "source": [
    "# yymmdd format\n",
    "dates = ['190803',\n",
    "        '190810',\n",
    "        '190817',\n",
    "        '190824',\n",
    "        '190831',\n",
    "        '190907',\n",
    "        '190914',\n",
    "        '190921',\n",
    "        '190928']\n",
    "\n",
    "# iterate through dates and pull in csv and cat dataframes together\n",
    "df_turns = []\n",
    "for date in dates:\n",
    "    df_turns.append(pd.read_csv('http://web.mta.info/developers/data/nyct/turnstile/turnstile_'+date+'.txt'))\n",
    "\n",
    "\n",
    "#Concat all data frames    \n",
    "df_turns = pd.concat(df_turns)\n",
    "#Clean up column names\n",
    "new_col_names = [name.strip() for name in df_turns.columns]\n",
    "df_turns.columns = new_col_names\n",
    "# Remove audited rows since many are duplicates\n",
    "df_turns=df_turns[df_turns.DESC!='RECOVR AUD']\n",
    "# Remove column now that all are regular\n",
    "del df_turns['DESC']\n",
    "#Convert Date column to proper date type.\n",
    "df_turns['DATE']  = pd.to_datetime(df_turns['DATE'],format='%m/%d/%Y')\n",
    "#convert time to datetime type\n",
    "df_turns['TIME']=pd.to_datetime(df_turns['TIME'], format='%H:%M:%S')\n",
    "# Caluclate Entries Aggregated at station level by DateTime\n",
    "df_turns['Entry_Diff']=df_turns.groupby(['STATION', 'C/A', 'UNIT', 'SCP'],as_index=False)['ENTRIES'].transform(pd.Series.diff)['ENTRIES']\n",
    "# Caluclate Exits Aggregated at station level by DateTime\n",
    "df_turns['Exit_Diff']=df_turns.groupby(['STATION', 'C/A', 'UNIT', 'SCP'],as_index=False)['EXITS'].transform(pd.Series.diff)['EXITS']\n",
    "#Absolute Value to deal with counting backward issues \n",
    "df_turns['Entry_Diff'] = abs(df_turns['Entry_Diff'])\n",
    "df_turns['Exit_Diff']=abs(df_turns['Exit_Diff'])\n",
    "# Calculate both\n",
    "df_turns['Total_Traffic']=df_turns['Entry_Diff']+df_turns['Exit_Diff']"
   ]
  },
  {
   "cell_type": "code",
   "execution_count": 4,
   "metadata": {},
   "outputs": [],
   "source": [
    "def convertTimeBuckets(time):\n",
    "    \n",
    "    \"\"\"\n",
    "    00:00 < Late Night <= 4:00\n",
    "    4:00 < Early Morning <= 8:00\n",
    "    8:00 < Morning <= 12:00\n",
    "    12:00 < Afternoon <= 16:00\n",
    "    16:00 < Evening  <= 20:00\n",
    "    20:00 < Late Night <= 00:00\n",
    "    \"\"\"\n",
    "    \n",
    "    hour = time.hour\n",
    "    if hour > 20 or hour == 0:\n",
    "        category = 'Late Night'\n",
    "    elif hour > 16:\n",
    "        category = 'Evening'\n",
    "    elif hour > 12:\n",
    "        category = 'Afternoon'\n",
    "    elif hour > 8:\n",
    "        category = 'Morning'\n",
    "    elif hour > 4:\n",
    "        category = 'Early Morning'\n",
    "    elif hour > 0:\n",
    "        category = 'Late Night'\n",
    "    \n",
    "    return category\n",
    "\n",
    "\n",
    "def daytype(day):\n",
    "    if day == 'Sat' or day == 'Sun':\n",
    "        return 'Weekend'\n",
    "    else:\n",
    "        return 'Weekday'\n",
    "def Add_Weekday(data_frame, column='Date'):\n",
    "    dmap = {0:'Mon', 1: 'Tue', 2: 'Wed', 3:'Thu', 4:'Fri', 5:'Sat', 6:'Sun'}\n",
    "    #Convert column to date\n",
    "    data_frame[column] = pd.to_datetime(data_frame[column])\n",
    "    #Add column which shows the Weekday in integer\n",
    "    data_frame['Day_Number'] = data_frame[column].apply(lambda x: x.dayofweek)\n",
    "    #Add column which shows the Weekday in words\n",
    "    data_frame['Weekday'] = data_frame['Day_Number'].map(dmap)\n",
    "    return data_frame\n",
    "df_turns = Add_Weekday(df_turns,'DATE')\n",
    "df_turns['Day_Bucket'] = df_turns['TIME'].apply(convertTimeBuckets)\n",
    "df_turns['Day_Type'] = df_turns['Weekday'].apply(daytype)\n",
    "df_turns['Day_Bucket'] = pd.Categorical(df_turns['Day_Bucket'], categories=\n",
    "    ['Early Morning','Morning','Afternoon','Evening','Late Night'],\n",
    "    ordered=True)"
   ]
  }
 ],
 "metadata": {
  "kernelspec": {
   "display_name": "Python 3",
   "language": "python",
   "name": "python3"
  },
  "language_info": {
   "codemirror_mode": {
    "name": "ipython",
    "version": 3
   },
   "file_extension": ".py",
   "mimetype": "text/x-python",
   "name": "python",
   "nbconvert_exporter": "python",
   "pygments_lexer": "ipython3",
   "version": "3.7.6"
  }
 },
 "nbformat": 4,
 "nbformat_minor": 4
}
