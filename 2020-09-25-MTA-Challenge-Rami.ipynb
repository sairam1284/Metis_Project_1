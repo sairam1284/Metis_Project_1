{
 "cells": [
  {
   "cell_type": "markdown",
   "metadata": {},
   "source": [
    "# MTA Data Challenge Solutions"
   ]
  },
  {
   "cell_type": "code",
   "execution_count": 1,
   "metadata": {},
   "outputs": [],
   "source": [
    "import sys\n",
    "import pandas as pd\n",
    "import numpy as np\n",
    "import seaborn as sns\n",
    "import matplotlib.pyplot as plt\n",
    "import formulas as fm"
   ]
  },
  {
   "cell_type": "markdown",
   "metadata": {},
   "source": [
    "### Question 1:  Get the Data, Understand the Data"
   ]
  },
  {
   "cell_type": "code",
   "execution_count": 2,
   "metadata": {},
   "outputs": [],
   "source": [
    "# Source = http://web.mta.info/developers/turnstile.html\n",
    "dates = ['190803',\n",
    "        '190810',\n",
    "        '190817',\n",
    "        '190824',\n",
    "        '190831',\n",
    "        '190907',\n",
    "        '190914',\n",
    "        '190921',\n",
    "        '190928']\n",
    "\n",
    "turns_df = fm.get_data(dates)"
   ]
  },
  {
   "cell_type": "code",
   "execution_count": 3,
   "metadata": {},
   "outputs": [
    {
     "data": {
      "text/html": [
       "<div>\n",
       "<style scoped>\n",
       "    .dataframe tbody tr th:only-of-type {\n",
       "        vertical-align: middle;\n",
       "    }\n",
       "\n",
       "    .dataframe tbody tr th {\n",
       "        vertical-align: top;\n",
       "    }\n",
       "\n",
       "    .dataframe thead th {\n",
       "        text-align: right;\n",
       "    }\n",
       "</style>\n",
       "<table border=\"1\" class=\"dataframe\">\n",
       "  <thead>\n",
       "    <tr style=\"text-align: right;\">\n",
       "      <th></th>\n",
       "      <th>C/A</th>\n",
       "      <th>UNIT</th>\n",
       "      <th>SCP</th>\n",
       "      <th>STATION</th>\n",
       "      <th>LINENAME</th>\n",
       "      <th>DIVISION</th>\n",
       "      <th>DATE</th>\n",
       "      <th>TIME</th>\n",
       "      <th>DESC</th>\n",
       "      <th>ENTRIES</th>\n",
       "      <th>EXITS</th>\n",
       "    </tr>\n",
       "  </thead>\n",
       "  <tbody>\n",
       "    <tr>\n",
       "      <th>0</th>\n",
       "      <td>A002</td>\n",
       "      <td>R051</td>\n",
       "      <td>02-00-00</td>\n",
       "      <td>59 ST</td>\n",
       "      <td>NQR456W</td>\n",
       "      <td>BMT</td>\n",
       "      <td>07/27/2019</td>\n",
       "      <td>00:00:00</td>\n",
       "      <td>REGULAR</td>\n",
       "      <td>7148288</td>\n",
       "      <td>2418935</td>\n",
       "    </tr>\n",
       "    <tr>\n",
       "      <th>1</th>\n",
       "      <td>A002</td>\n",
       "      <td>R051</td>\n",
       "      <td>02-00-00</td>\n",
       "      <td>59 ST</td>\n",
       "      <td>NQR456W</td>\n",
       "      <td>BMT</td>\n",
       "      <td>07/27/2019</td>\n",
       "      <td>04:00:00</td>\n",
       "      <td>REGULAR</td>\n",
       "      <td>7148306</td>\n",
       "      <td>2418939</td>\n",
       "    </tr>\n",
       "    <tr>\n",
       "      <th>2</th>\n",
       "      <td>A002</td>\n",
       "      <td>R051</td>\n",
       "      <td>02-00-00</td>\n",
       "      <td>59 ST</td>\n",
       "      <td>NQR456W</td>\n",
       "      <td>BMT</td>\n",
       "      <td>07/27/2019</td>\n",
       "      <td>08:00:00</td>\n",
       "      <td>REGULAR</td>\n",
       "      <td>7148326</td>\n",
       "      <td>2418975</td>\n",
       "    </tr>\n",
       "    <tr>\n",
       "      <th>3</th>\n",
       "      <td>A002</td>\n",
       "      <td>R051</td>\n",
       "      <td>02-00-00</td>\n",
       "      <td>59 ST</td>\n",
       "      <td>NQR456W</td>\n",
       "      <td>BMT</td>\n",
       "      <td>07/27/2019</td>\n",
       "      <td>12:00:00</td>\n",
       "      <td>REGULAR</td>\n",
       "      <td>7148441</td>\n",
       "      <td>2419042</td>\n",
       "    </tr>\n",
       "    <tr>\n",
       "      <th>4</th>\n",
       "      <td>A002</td>\n",
       "      <td>R051</td>\n",
       "      <td>02-00-00</td>\n",
       "      <td>59 ST</td>\n",
       "      <td>NQR456W</td>\n",
       "      <td>BMT</td>\n",
       "      <td>07/27/2019</td>\n",
       "      <td>16:00:00</td>\n",
       "      <td>REGULAR</td>\n",
       "      <td>7148647</td>\n",
       "      <td>2419101</td>\n",
       "    </tr>\n",
       "  </tbody>\n",
       "</table>\n",
       "</div>"
      ],
      "text/plain": [
       "    C/A  UNIT       SCP STATION LINENAME DIVISION        DATE      TIME  \\\n",
       "0  A002  R051  02-00-00   59 ST  NQR456W      BMT  07/27/2019  00:00:00   \n",
       "1  A002  R051  02-00-00   59 ST  NQR456W      BMT  07/27/2019  04:00:00   \n",
       "2  A002  R051  02-00-00   59 ST  NQR456W      BMT  07/27/2019  08:00:00   \n",
       "3  A002  R051  02-00-00   59 ST  NQR456W      BMT  07/27/2019  12:00:00   \n",
       "4  A002  R051  02-00-00   59 ST  NQR456W      BMT  07/27/2019  16:00:00   \n",
       "\n",
       "      DESC  ENTRIES  \\\n",
       "0  REGULAR  7148288   \n",
       "1  REGULAR  7148306   \n",
       "2  REGULAR  7148326   \n",
       "3  REGULAR  7148441   \n",
       "4  REGULAR  7148647   \n",
       "\n",
       "   EXITS                                                                 \n",
       "0                                            2418935                     \n",
       "1                                            2418939                     \n",
       "2                                            2418975                     \n",
       "3                                            2419042                     \n",
       "4                                            2419101                     "
      ]
     },
     "execution_count": 3,
     "metadata": {},
     "output_type": "execute_result"
    }
   ],
   "source": [
    "turns_df.head()"
   ]
  },
  {
   "cell_type": "code",
   "execution_count": 4,
   "metadata": {},
   "outputs": [
    {
     "data": {
      "text/plain": [
       "Index(['C/A', 'UNIT', 'SCP', 'STATION', 'LINENAME', 'DIVISION', 'DATE', 'TIME',\n",
       "       'DESC', 'ENTRIES',\n",
       "       'EXITS                                                               '],\n",
       "      dtype='object')"
      ]
     },
     "execution_count": 4,
     "metadata": {},
     "output_type": "execute_result"
    }
   ],
   "source": [
    "turns_df.columns"
   ]
  },
  {
   "cell_type": "code",
   "execution_count": 5,
   "metadata": {},
   "outputs": [
    {
     "data": {
      "text/plain": [
       "Index(['C/A', 'UNIT', 'SCP', 'STATION', 'LINENAME', 'DIVISION', 'DATE', 'TIME',\n",
       "       'DESC', 'ENTRIES', 'EXITS'],\n",
       "      dtype='object')"
      ]
     },
     "execution_count": 5,
     "metadata": {},
     "output_type": "execute_result"
    }
   ],
   "source": [
    "turns_df.columns = [column.strip() for column in turns_df.columns]\n",
    "turns_df.columns"
   ]
  },
  {
   "cell_type": "code",
   "execution_count": null,
   "metadata": {},
   "outputs": [],
   "source": []
  },
  {
   "cell_type": "markdown",
   "metadata": {},
   "source": [
    "### Question 2: Convert the Date column to a Datetime Type"
   ]
  },
  {
   "cell_type": "code",
   "execution_count": 6,
   "metadata": {},
   "outputs": [],
   "source": [
    "#This adds a datetime column which is formatted by Date and has the hour element\n",
    "turns_df = fm.Clean_Date(turns_df)"
   ]
  },
  {
   "cell_type": "code",
   "execution_count": 7,
   "metadata": {},
   "outputs": [
    {
     "data": {
      "text/html": [
       "<div>\n",
       "<style scoped>\n",
       "    .dataframe tbody tr th:only-of-type {\n",
       "        vertical-align: middle;\n",
       "    }\n",
       "\n",
       "    .dataframe tbody tr th {\n",
       "        vertical-align: top;\n",
       "    }\n",
       "\n",
       "    .dataframe thead th {\n",
       "        text-align: right;\n",
       "    }\n",
       "</style>\n",
       "<table border=\"1\" class=\"dataframe\">\n",
       "  <thead>\n",
       "    <tr style=\"text-align: right;\">\n",
       "      <th></th>\n",
       "      <th>C/A</th>\n",
       "      <th>UNIT</th>\n",
       "      <th>SCP</th>\n",
       "      <th>STATION</th>\n",
       "      <th>LINENAME</th>\n",
       "      <th>DIVISION</th>\n",
       "      <th>DATE</th>\n",
       "      <th>TIME</th>\n",
       "      <th>DESC</th>\n",
       "      <th>ENTRIES</th>\n",
       "      <th>EXITS</th>\n",
       "      <th>DATETIME</th>\n",
       "      <th>Weekday</th>\n",
       "    </tr>\n",
       "  </thead>\n",
       "  <tbody>\n",
       "    <tr>\n",
       "      <th>0</th>\n",
       "      <td>A002</td>\n",
       "      <td>R051</td>\n",
       "      <td>02-00-00</td>\n",
       "      <td>59 ST</td>\n",
       "      <td>NQR456W</td>\n",
       "      <td>BMT</td>\n",
       "      <td>2019-07-27</td>\n",
       "      <td>1900-01-01 00:00:00</td>\n",
       "      <td>REGULAR</td>\n",
       "      <td>7148288</td>\n",
       "      <td>2418935</td>\n",
       "      <td>2019-07-27 00:00:00</td>\n",
       "      <td>Sat</td>\n",
       "    </tr>\n",
       "    <tr>\n",
       "      <th>1</th>\n",
       "      <td>A002</td>\n",
       "      <td>R051</td>\n",
       "      <td>02-00-00</td>\n",
       "      <td>59 ST</td>\n",
       "      <td>NQR456W</td>\n",
       "      <td>BMT</td>\n",
       "      <td>2019-07-27</td>\n",
       "      <td>1900-01-01 04:00:00</td>\n",
       "      <td>REGULAR</td>\n",
       "      <td>7148306</td>\n",
       "      <td>2418939</td>\n",
       "      <td>2019-07-27 04:00:00</td>\n",
       "      <td>Sat</td>\n",
       "    </tr>\n",
       "    <tr>\n",
       "      <th>2</th>\n",
       "      <td>A002</td>\n",
       "      <td>R051</td>\n",
       "      <td>02-00-00</td>\n",
       "      <td>59 ST</td>\n",
       "      <td>NQR456W</td>\n",
       "      <td>BMT</td>\n",
       "      <td>2019-07-27</td>\n",
       "      <td>1900-01-01 08:00:00</td>\n",
       "      <td>REGULAR</td>\n",
       "      <td>7148326</td>\n",
       "      <td>2418975</td>\n",
       "      <td>2019-07-27 08:00:00</td>\n",
       "      <td>Sat</td>\n",
       "    </tr>\n",
       "    <tr>\n",
       "      <th>3</th>\n",
       "      <td>A002</td>\n",
       "      <td>R051</td>\n",
       "      <td>02-00-00</td>\n",
       "      <td>59 ST</td>\n",
       "      <td>NQR456W</td>\n",
       "      <td>BMT</td>\n",
       "      <td>2019-07-27</td>\n",
       "      <td>1900-01-01 12:00:00</td>\n",
       "      <td>REGULAR</td>\n",
       "      <td>7148441</td>\n",
       "      <td>2419042</td>\n",
       "      <td>2019-07-27 12:00:00</td>\n",
       "      <td>Sat</td>\n",
       "    </tr>\n",
       "    <tr>\n",
       "      <th>4</th>\n",
       "      <td>A002</td>\n",
       "      <td>R051</td>\n",
       "      <td>02-00-00</td>\n",
       "      <td>59 ST</td>\n",
       "      <td>NQR456W</td>\n",
       "      <td>BMT</td>\n",
       "      <td>2019-07-27</td>\n",
       "      <td>1900-01-01 16:00:00</td>\n",
       "      <td>REGULAR</td>\n",
       "      <td>7148647</td>\n",
       "      <td>2419101</td>\n",
       "      <td>2019-07-27 16:00:00</td>\n",
       "      <td>Sat</td>\n",
       "    </tr>\n",
       "  </tbody>\n",
       "</table>\n",
       "</div>"
      ],
      "text/plain": [
       "    C/A  UNIT       SCP STATION LINENAME DIVISION       DATE  \\\n",
       "0  A002  R051  02-00-00   59 ST  NQR456W      BMT 2019-07-27   \n",
       "1  A002  R051  02-00-00   59 ST  NQR456W      BMT 2019-07-27   \n",
       "2  A002  R051  02-00-00   59 ST  NQR456W      BMT 2019-07-27   \n",
       "3  A002  R051  02-00-00   59 ST  NQR456W      BMT 2019-07-27   \n",
       "4  A002  R051  02-00-00   59 ST  NQR456W      BMT 2019-07-27   \n",
       "\n",
       "                 TIME     DESC  ENTRIES    EXITS            DATETIME Weekday  \n",
       "0 1900-01-01 00:00:00  REGULAR  7148288  2418935 2019-07-27 00:00:00     Sat  \n",
       "1 1900-01-01 04:00:00  REGULAR  7148306  2418939 2019-07-27 04:00:00     Sat  \n",
       "2 1900-01-01 08:00:00  REGULAR  7148326  2418975 2019-07-27 08:00:00     Sat  \n",
       "3 1900-01-01 12:00:00  REGULAR  7148441  2419042 2019-07-27 12:00:00     Sat  \n",
       "4 1900-01-01 16:00:00  REGULAR  7148647  2419101 2019-07-27 16:00:00     Sat  "
      ]
     },
     "execution_count": 7,
     "metadata": {},
     "output_type": "execute_result"
    }
   ],
   "source": [
    "turns_df.head()"
   ]
  },
  {
   "cell_type": "markdown",
   "metadata": {},
   "source": [
    "### Challenge 3 - Grouping\n",
    "Each row is a turnstile, identified by a combination of the C/A, UNIT, SCP, and STATION columns, with information on entries and exits at that turnstile every n hours. (What is n?) We want total daily entries. Group the data so that it represents daily entries for each turnstile (hint: pd.groupby or DataFrame.groupby)"
   ]
  },
  {
   "cell_type": "code",
   "execution_count": 8,
   "metadata": {
    "scrolled": false
   },
   "outputs": [
    {
     "data": {
      "text/html": [
       "<div>\n",
       "<style scoped>\n",
       "    .dataframe tbody tr th:only-of-type {\n",
       "        vertical-align: middle;\n",
       "    }\n",
       "\n",
       "    .dataframe tbody tr th {\n",
       "        vertical-align: top;\n",
       "    }\n",
       "\n",
       "    .dataframe thead th {\n",
       "        text-align: right;\n",
       "    }\n",
       "</style>\n",
       "<table border=\"1\" class=\"dataframe\">\n",
       "  <thead>\n",
       "    <tr style=\"text-align: right;\">\n",
       "      <th></th>\n",
       "      <th>C/A</th>\n",
       "      <th>UNIT</th>\n",
       "      <th>SCP</th>\n",
       "      <th>STATION</th>\n",
       "      <th>LINENAME</th>\n",
       "      <th>DIVISION</th>\n",
       "      <th>DATE</th>\n",
       "      <th>TIME</th>\n",
       "      <th>DESC</th>\n",
       "      <th>ENTRIES</th>\n",
       "      <th>EXITS</th>\n",
       "      <th>DATETIME</th>\n",
       "      <th>Weekday</th>\n",
       "    </tr>\n",
       "  </thead>\n",
       "  <tbody>\n",
       "    <tr>\n",
       "      <th>0</th>\n",
       "      <td>A002</td>\n",
       "      <td>R051</td>\n",
       "      <td>02-00-00</td>\n",
       "      <td>59 ST</td>\n",
       "      <td>NQR456W</td>\n",
       "      <td>BMT</td>\n",
       "      <td>2019-07-27</td>\n",
       "      <td>1900-01-01 00:00:00</td>\n",
       "      <td>REGULAR</td>\n",
       "      <td>7148288</td>\n",
       "      <td>2418935</td>\n",
       "      <td>2019-07-27 00:00:00</td>\n",
       "      <td>Sat</td>\n",
       "    </tr>\n",
       "    <tr>\n",
       "      <th>1</th>\n",
       "      <td>A002</td>\n",
       "      <td>R051</td>\n",
       "      <td>02-00-00</td>\n",
       "      <td>59 ST</td>\n",
       "      <td>NQR456W</td>\n",
       "      <td>BMT</td>\n",
       "      <td>2019-07-27</td>\n",
       "      <td>1900-01-01 04:00:00</td>\n",
       "      <td>REGULAR</td>\n",
       "      <td>7148306</td>\n",
       "      <td>2418939</td>\n",
       "      <td>2019-07-27 04:00:00</td>\n",
       "      <td>Sat</td>\n",
       "    </tr>\n",
       "    <tr>\n",
       "      <th>2</th>\n",
       "      <td>A002</td>\n",
       "      <td>R051</td>\n",
       "      <td>02-00-00</td>\n",
       "      <td>59 ST</td>\n",
       "      <td>NQR456W</td>\n",
       "      <td>BMT</td>\n",
       "      <td>2019-07-27</td>\n",
       "      <td>1900-01-01 08:00:00</td>\n",
       "      <td>REGULAR</td>\n",
       "      <td>7148326</td>\n",
       "      <td>2418975</td>\n",
       "      <td>2019-07-27 08:00:00</td>\n",
       "      <td>Sat</td>\n",
       "    </tr>\n",
       "    <tr>\n",
       "      <th>3</th>\n",
       "      <td>A002</td>\n",
       "      <td>R051</td>\n",
       "      <td>02-00-00</td>\n",
       "      <td>59 ST</td>\n",
       "      <td>NQR456W</td>\n",
       "      <td>BMT</td>\n",
       "      <td>2019-07-27</td>\n",
       "      <td>1900-01-01 12:00:00</td>\n",
       "      <td>REGULAR</td>\n",
       "      <td>7148441</td>\n",
       "      <td>2419042</td>\n",
       "      <td>2019-07-27 12:00:00</td>\n",
       "      <td>Sat</td>\n",
       "    </tr>\n",
       "    <tr>\n",
       "      <th>4</th>\n",
       "      <td>A002</td>\n",
       "      <td>R051</td>\n",
       "      <td>02-00-00</td>\n",
       "      <td>59 ST</td>\n",
       "      <td>NQR456W</td>\n",
       "      <td>BMT</td>\n",
       "      <td>2019-07-27</td>\n",
       "      <td>1900-01-01 16:00:00</td>\n",
       "      <td>REGULAR</td>\n",
       "      <td>7148647</td>\n",
       "      <td>2419101</td>\n",
       "      <td>2019-07-27 16:00:00</td>\n",
       "      <td>Sat</td>\n",
       "    </tr>\n",
       "  </tbody>\n",
       "</table>\n",
       "</div>"
      ],
      "text/plain": [
       "    C/A  UNIT       SCP STATION LINENAME DIVISION       DATE  \\\n",
       "0  A002  R051  02-00-00   59 ST  NQR456W      BMT 2019-07-27   \n",
       "1  A002  R051  02-00-00   59 ST  NQR456W      BMT 2019-07-27   \n",
       "2  A002  R051  02-00-00   59 ST  NQR456W      BMT 2019-07-27   \n",
       "3  A002  R051  02-00-00   59 ST  NQR456W      BMT 2019-07-27   \n",
       "4  A002  R051  02-00-00   59 ST  NQR456W      BMT 2019-07-27   \n",
       "\n",
       "                 TIME     DESC  ENTRIES    EXITS            DATETIME Weekday  \n",
       "0 1900-01-01 00:00:00  REGULAR  7148288  2418935 2019-07-27 00:00:00     Sat  \n",
       "1 1900-01-01 04:00:00  REGULAR  7148306  2418939 2019-07-27 04:00:00     Sat  \n",
       "2 1900-01-01 08:00:00  REGULAR  7148326  2418975 2019-07-27 08:00:00     Sat  \n",
       "3 1900-01-01 12:00:00  REGULAR  7148441  2419042 2019-07-27 12:00:00     Sat  \n",
       "4 1900-01-01 16:00:00  REGULAR  7148647  2419101 2019-07-27 16:00:00     Sat  "
      ]
     },
     "execution_count": 8,
     "metadata": {},
     "output_type": "execute_result"
    }
   ],
   "source": [
    "single = turns_df[(turns_df['C/A'] == 'A002')&\\\n",
    "        (turns_df['SCP'] == '02-00-00')&\\\n",
    "        (turns_df['UNIT'] == 'R051')&\\\n",
    "        (turns_df['STATION'] == '59 ST')]\n",
    "\n",
    "single.head()"
   ]
  },
  {
   "cell_type": "markdown",
   "metadata": {},
   "source": [
    "#### Want to check if the time values are unique.\n"
   ]
  },
  {
   "cell_type": "code",
   "execution_count": 9,
   "metadata": {
    "scrolled": false
   },
   "outputs": [
    {
     "data": {
      "text/plain": [
       "array(['1900-01-01T00:00:00.000000000', '1900-01-01T04:00:00.000000000',\n",
       "       '1900-01-01T08:00:00.000000000', '1900-01-01T12:00:00.000000000',\n",
       "       '1900-01-01T16:00:00.000000000', '1900-01-01T20:00:00.000000000'],\n",
       "      dtype='datetime64[ns]')"
      ]
     },
     "execution_count": 9,
     "metadata": {},
     "output_type": "execute_result"
    }
   ],
   "source": [
    "single['TIME'].unique()\n"
   ]
  },
  {
   "cell_type": "markdown",
   "metadata": {},
   "source": [
    "It appears so with just this 1 entry but is it so for all entries?? It looks like there are several different values. So I would rather create a column that just extracts Hours from that time:"
   ]
  },
  {
   "cell_type": "code",
   "execution_count": 10,
   "metadata": {},
   "outputs": [
    {
     "data": {
      "text/plain": [
       "array(['1900-01-01T00:00:00.000000000', '1900-01-01T04:00:00.000000000',\n",
       "       '1900-01-01T08:00:00.000000000', ...,\n",
       "       '1900-01-01T21:31:28.000000000', '1900-01-01T08:26:30.000000000',\n",
       "       '1900-01-01T07:18:41.000000000'], dtype='datetime64[ns]')"
      ]
     },
     "execution_count": 10,
     "metadata": {},
     "output_type": "execute_result"
    }
   ],
   "source": [
    "turns_df['TIME'].unique()"
   ]
  },
  {
   "cell_type": "code",
   "execution_count": 12,
   "metadata": {},
   "outputs": [
    {
     "data": {
      "text/html": [
       "<div>\n",
       "<style scoped>\n",
       "    .dataframe tbody tr th:only-of-type {\n",
       "        vertical-align: middle;\n",
       "    }\n",
       "\n",
       "    .dataframe tbody tr th {\n",
       "        vertical-align: top;\n",
       "    }\n",
       "\n",
       "    .dataframe thead th {\n",
       "        text-align: right;\n",
       "    }\n",
       "</style>\n",
       "<table border=\"1\" class=\"dataframe\">\n",
       "  <thead>\n",
       "    <tr style=\"text-align: right;\">\n",
       "      <th></th>\n",
       "      <th>C/A</th>\n",
       "      <th>UNIT</th>\n",
       "      <th>SCP</th>\n",
       "      <th>STATION</th>\n",
       "      <th>LINENAME</th>\n",
       "      <th>DIVISION</th>\n",
       "      <th>DATE</th>\n",
       "      <th>TIME</th>\n",
       "      <th>DESC</th>\n",
       "      <th>ENTRIES</th>\n",
       "      <th>EXITS</th>\n",
       "      <th>DATETIME</th>\n",
       "      <th>Weekday</th>\n",
       "    </tr>\n",
       "  </thead>\n",
       "  <tbody>\n",
       "    <tr>\n",
       "      <th>25882</th>\n",
       "      <td>D005</td>\n",
       "      <td>R398</td>\n",
       "      <td>00-06-00</td>\n",
       "      <td>NEW UTRECHT AV</td>\n",
       "      <td>ND</td>\n",
       "      <td>BMT</td>\n",
       "      <td>2019-08-27</td>\n",
       "      <td>9</td>\n",
       "      <td>REGULAR</td>\n",
       "      <td>585</td>\n",
       "      <td>194</td>\n",
       "      <td>2019-08-27 09:00:00</td>\n",
       "      <td>Tue</td>\n",
       "    </tr>\n",
       "    <tr>\n",
       "      <th>39045</th>\n",
       "      <td>J007</td>\n",
       "      <td>R377</td>\n",
       "      <td>00-06-01</td>\n",
       "      <td>FLUSHING AV</td>\n",
       "      <td>JM</td>\n",
       "      <td>BMT</td>\n",
       "      <td>2019-09-13</td>\n",
       "      <td>5</td>\n",
       "      <td>REGULAR</td>\n",
       "      <td>10796369</td>\n",
       "      <td>11418348</td>\n",
       "      <td>2019-09-13 05:00:00</td>\n",
       "      <td>Fri</td>\n",
       "    </tr>\n",
       "    <tr>\n",
       "      <th>192590</th>\n",
       "      <td>R551</td>\n",
       "      <td>R072</td>\n",
       "      <td>01-03-00</td>\n",
       "      <td>34 ST-HUDSON YD</td>\n",
       "      <td>7</td>\n",
       "      <td>IRT</td>\n",
       "      <td>2019-09-04</td>\n",
       "      <td>8</td>\n",
       "      <td>REGULAR</td>\n",
       "      <td>104212</td>\n",
       "      <td>15307</td>\n",
       "      <td>2019-09-04 08:00:00</td>\n",
       "      <td>Wed</td>\n",
       "    </tr>\n",
       "    <tr>\n",
       "      <th>60177</th>\n",
       "      <td>N094</td>\n",
       "      <td>R029</td>\n",
       "      <td>01-03-06</td>\n",
       "      <td>WORLD TRADE CTR</td>\n",
       "      <td>ACE23</td>\n",
       "      <td>IND</td>\n",
       "      <td>2019-08-06</td>\n",
       "      <td>8</td>\n",
       "      <td>REGULAR</td>\n",
       "      <td>1580021029</td>\n",
       "      <td>1829101573</td>\n",
       "      <td>2019-08-06 08:00:00</td>\n",
       "      <td>Tue</td>\n",
       "    </tr>\n",
       "    <tr>\n",
       "      <th>81189</th>\n",
       "      <td>N312</td>\n",
       "      <td>R339</td>\n",
       "      <td>00-00-01</td>\n",
       "      <td>36 ST</td>\n",
       "      <td>MR</td>\n",
       "      <td>IND</td>\n",
       "      <td>2019-08-11</td>\n",
       "      <td>5</td>\n",
       "      <td>REGULAR</td>\n",
       "      <td>480077</td>\n",
       "      <td>265552</td>\n",
       "      <td>2019-08-11 05:00:00</td>\n",
       "      <td>Sun</td>\n",
       "    </tr>\n",
       "  </tbody>\n",
       "</table>\n",
       "</div>"
      ],
      "text/plain": [
       "         C/A  UNIT       SCP          STATION LINENAME DIVISION       DATE  \\\n",
       "25882   D005  R398  00-06-00   NEW UTRECHT AV       ND      BMT 2019-08-27   \n",
       "39045   J007  R377  00-06-01      FLUSHING AV       JM      BMT 2019-09-13   \n",
       "192590  R551  R072  01-03-00  34 ST-HUDSON YD        7      IRT 2019-09-04   \n",
       "60177   N094  R029  01-03-06  WORLD TRADE CTR    ACE23      IND 2019-08-06   \n",
       "81189   N312  R339  00-00-01            36 ST       MR      IND 2019-08-11   \n",
       "\n",
       "        TIME     DESC     ENTRIES       EXITS            DATETIME Weekday  \n",
       "25882      9  REGULAR         585         194 2019-08-27 09:00:00     Tue  \n",
       "39045      5  REGULAR    10796369    11418348 2019-09-13 05:00:00     Fri  \n",
       "192590     8  REGULAR      104212       15307 2019-09-04 08:00:00     Wed  \n",
       "60177      8  REGULAR  1580021029  1829101573 2019-08-06 08:00:00     Tue  \n",
       "81189      5  REGULAR      480077      265552 2019-08-11 05:00:00     Sun  "
      ]
     },
     "execution_count": 12,
     "metadata": {},
     "output_type": "execute_result"
    }
   ],
   "source": [
    "turns_df['TIME'] = turns_df['DATETIME'].apply(lambda x: x.hour)\n",
    "turns_df.sample(5)"
   ]
  },
  {
   "cell_type": "code",
   "execution_count": 13,
   "metadata": {},
   "outputs": [
    {
     "data": {
      "text/html": [
       "<div>\n",
       "<style scoped>\n",
       "    .dataframe tbody tr th:only-of-type {\n",
       "        vertical-align: middle;\n",
       "    }\n",
       "\n",
       "    .dataframe tbody tr th {\n",
       "        vertical-align: top;\n",
       "    }\n",
       "\n",
       "    .dataframe thead th {\n",
       "        text-align: right;\n",
       "    }\n",
       "</style>\n",
       "<table border=\"1\" class=\"dataframe\">\n",
       "  <thead>\n",
       "    <tr style=\"text-align: right;\">\n",
       "      <th></th>\n",
       "      <th>C/A</th>\n",
       "      <th>SCP</th>\n",
       "      <th>STATION</th>\n",
       "      <th>DATETIME</th>\n",
       "      <th>ENTRIES</th>\n",
       "    </tr>\n",
       "  </thead>\n",
       "  <tbody>\n",
       "    <tr>\n",
       "      <th>47992</th>\n",
       "      <td>A034</td>\n",
       "      <td>03-05-03</td>\n",
       "      <td>14 ST-UNION SQ</td>\n",
       "      <td>2019-08-13 09:00:00</td>\n",
       "      <td>2</td>\n",
       "    </tr>\n",
       "    <tr>\n",
       "      <th>47983</th>\n",
       "      <td>A034</td>\n",
       "      <td>03-05-03</td>\n",
       "      <td>14 ST-UNION SQ</td>\n",
       "      <td>2019-08-11 21:00:00</td>\n",
       "      <td>2</td>\n",
       "    </tr>\n",
       "    <tr>\n",
       "      <th>1787723</th>\n",
       "      <td>R622</td>\n",
       "      <td>00-00-07</td>\n",
       "      <td>FRANKLIN AV</td>\n",
       "      <td>2019-08-22 04:59:02</td>\n",
       "      <td>2</td>\n",
       "    </tr>\n",
       "  </tbody>\n",
       "</table>\n",
       "</div>"
      ],
      "text/plain": [
       "          C/A       SCP         STATION            DATETIME  ENTRIES\n",
       "47992    A034  03-05-03  14 ST-UNION SQ 2019-08-13 09:00:00        2\n",
       "47983    A034  03-05-03  14 ST-UNION SQ 2019-08-11 21:00:00        2\n",
       "1787723  R622  00-00-07     FRANKLIN AV 2019-08-22 04:59:02        2"
      ]
     },
     "execution_count": 13,
     "metadata": {},
     "output_type": "execute_result"
    }
   ],
   "source": [
    "#Check the data for any duplicates to see if our groupby's are in fact creating unique groups\n",
    "(turns_df.groupby(['C/A', 'SCP', 'STATION', 'DATETIME'])\n",
    "                ['ENTRIES'].count()\n",
    "                .reset_index()\n",
    "                .sort_values(by='ENTRIES', ascending=False)).head(3)"
   ]
  },
  {
   "cell_type": "code",
   "execution_count": 14,
   "metadata": {},
   "outputs": [
    {
     "data": {
      "text/plain": [
       "REGULAR       1845436\n",
       "RECOVR AUD       7577\n",
       "Name: DESC, dtype: int64"
      ]
     },
     "execution_count": 14,
     "metadata": {},
     "output_type": "execute_result"
    }
   ],
   "source": [
    "#Looks like those duplicates occur on the DESC\n",
    "turns_df.DESC.value_counts()"
   ]
  },
  {
   "cell_type": "code",
   "execution_count": 15,
   "metadata": {},
   "outputs": [],
   "source": [
    "#Let's drop all rows with a DESC of RECOVR AUD\n",
    "turns_df_copy = turns_df.copy()\n",
    "turns_df = turns_df[turns_df['DESC']=='REGULAR']"
   ]
  },
  {
   "cell_type": "code",
   "execution_count": 16,
   "metadata": {},
   "outputs": [
    {
     "data": {
      "text/html": [
       "<div>\n",
       "<style scoped>\n",
       "    .dataframe tbody tr th:only-of-type {\n",
       "        vertical-align: middle;\n",
       "    }\n",
       "\n",
       "    .dataframe tbody tr th {\n",
       "        vertical-align: top;\n",
       "    }\n",
       "\n",
       "    .dataframe thead th {\n",
       "        text-align: right;\n",
       "    }\n",
       "</style>\n",
       "<table border=\"1\" class=\"dataframe\">\n",
       "  <thead>\n",
       "    <tr style=\"text-align: right;\">\n",
       "      <th></th>\n",
       "      <th>C/A</th>\n",
       "      <th>SCP</th>\n",
       "      <th>STATION</th>\n",
       "      <th>DATETIME</th>\n",
       "      <th>ENTRIES</th>\n",
       "    </tr>\n",
       "  </thead>\n",
       "  <tbody>\n",
       "    <tr>\n",
       "      <th>0</th>\n",
       "      <td>A002</td>\n",
       "      <td>02-00-00</td>\n",
       "      <td>59 ST</td>\n",
       "      <td>2019-07-27 00:00:00</td>\n",
       "      <td>1</td>\n",
       "    </tr>\n",
       "    <tr>\n",
       "      <th>1230327</th>\n",
       "      <td>R138</td>\n",
       "      <td>00-03-02</td>\n",
       "      <td>34 ST-PENN STA</td>\n",
       "      <td>2019-08-06 10:00:00</td>\n",
       "      <td>1</td>\n",
       "    </tr>\n",
       "    <tr>\n",
       "      <th>1230297</th>\n",
       "      <td>R138</td>\n",
       "      <td>00-03-02</td>\n",
       "      <td>34 ST-PENN STA</td>\n",
       "      <td>2019-08-01 10:00:00</td>\n",
       "      <td>1</td>\n",
       "    </tr>\n",
       "  </tbody>\n",
       "</table>\n",
       "</div>"
      ],
      "text/plain": [
       "          C/A       SCP         STATION            DATETIME  ENTRIES\n",
       "0        A002  02-00-00           59 ST 2019-07-27 00:00:00        1\n",
       "1230327  R138  00-03-02  34 ST-PENN STA 2019-08-06 10:00:00        1\n",
       "1230297  R138  00-03-02  34 ST-PENN STA 2019-08-01 10:00:00        1"
      ]
     },
     "execution_count": 16,
     "metadata": {},
     "output_type": "execute_result"
    }
   ],
   "source": [
    "#Good to go!\n",
    "(turns_df.groupby(['C/A', 'SCP', 'STATION', 'DATETIME'])\n",
    "                ['ENTRIES'].count()\n",
    "                .reset_index()\n",
    "                .sort_values(by='ENTRIES', ascending=False)).head(3)"
   ]
  },
  {
   "cell_type": "code",
   "execution_count": 17,
   "metadata": {},
   "outputs": [
    {
     "name": "stderr",
     "output_type": "stream",
     "text": [
      "<ipython-input-17-ecda282ca826>:1: FutureWarning: Indexing with multiple keys (implicitly converted to a tuple of keys) will be deprecated, use a list instead.\n",
      "  (turns_df.groupby(['C/A', 'SCP', 'STATION', 'DATETIME'])\n"
     ]
    },
    {
     "data": {
      "text/html": [
       "<div>\n",
       "<style scoped>\n",
       "    .dataframe tbody tr th:only-of-type {\n",
       "        vertical-align: middle;\n",
       "    }\n",
       "\n",
       "    .dataframe tbody tr th {\n",
       "        vertical-align: top;\n",
       "    }\n",
       "\n",
       "    .dataframe thead th {\n",
       "        text-align: right;\n",
       "    }\n",
       "</style>\n",
       "<table border=\"1\" class=\"dataframe\">\n",
       "  <thead>\n",
       "    <tr style=\"text-align: right;\">\n",
       "      <th></th>\n",
       "      <th>C/A</th>\n",
       "      <th>SCP</th>\n",
       "      <th>STATION</th>\n",
       "      <th>DATETIME</th>\n",
       "      <th>ENTRIES</th>\n",
       "      <th>EXITS</th>\n",
       "    </tr>\n",
       "  </thead>\n",
       "  <tbody>\n",
       "    <tr>\n",
       "      <th>0</th>\n",
       "      <td>A002</td>\n",
       "      <td>02-00-00</td>\n",
       "      <td>59 ST</td>\n",
       "      <td>2019-07-27 00:00:00</td>\n",
       "      <td>7148288</td>\n",
       "      <td>2418935</td>\n",
       "    </tr>\n",
       "    <tr>\n",
       "      <th>1</th>\n",
       "      <td>A002</td>\n",
       "      <td>02-00-00</td>\n",
       "      <td>59 ST</td>\n",
       "      <td>2019-07-27 04:00:00</td>\n",
       "      <td>7148306</td>\n",
       "      <td>2418939</td>\n",
       "    </tr>\n",
       "    <tr>\n",
       "      <th>2</th>\n",
       "      <td>A002</td>\n",
       "      <td>02-00-00</td>\n",
       "      <td>59 ST</td>\n",
       "      <td>2019-07-27 08:00:00</td>\n",
       "      <td>7148326</td>\n",
       "      <td>2418975</td>\n",
       "    </tr>\n",
       "    <tr>\n",
       "      <th>3</th>\n",
       "      <td>A002</td>\n",
       "      <td>02-00-00</td>\n",
       "      <td>59 ST</td>\n",
       "      <td>2019-07-27 12:00:00</td>\n",
       "      <td>7148441</td>\n",
       "      <td>2419042</td>\n",
       "    </tr>\n",
       "    <tr>\n",
       "      <th>4</th>\n",
       "      <td>A002</td>\n",
       "      <td>02-00-00</td>\n",
       "      <td>59 ST</td>\n",
       "      <td>2019-07-27 16:00:00</td>\n",
       "      <td>7148647</td>\n",
       "      <td>2419101</td>\n",
       "    </tr>\n",
       "  </tbody>\n",
       "</table>\n",
       "</div>"
      ],
      "text/plain": [
       "    C/A       SCP STATION            DATETIME  ENTRIES    EXITS\n",
       "0  A002  02-00-00   59 ST 2019-07-27 00:00:00  7148288  2418935\n",
       "1  A002  02-00-00   59 ST 2019-07-27 04:00:00  7148306  2418939\n",
       "2  A002  02-00-00   59 ST 2019-07-27 08:00:00  7148326  2418975\n",
       "3  A002  02-00-00   59 ST 2019-07-27 12:00:00  7148441  2419042\n",
       "4  A002  02-00-00   59 ST 2019-07-27 16:00:00  7148647  2419101"
      ]
     },
     "execution_count": 17,
     "metadata": {},
     "output_type": "execute_result"
    }
   ],
   "source": [
    "(turns_df.groupby(['C/A', 'SCP', 'STATION', 'DATETIME'])\n",
    "                ['ENTRIES', 'EXITS']\n",
    "                .median().reset_index()).head()"
   ]
  },
  {
   "cell_type": "markdown",
   "metadata": {},
   "source": [
    "#### Challenge 3 Observations:\n",
    "After looking at the entries at given times, it is clear that the number does not actually reflect the entries in a given time period as there is no awy over 5 million people could go thru a turnstile in such a short period.  Looking at the data, it appears that the Entries/Exits are a cumulative sum with some unknown starting period"
   ]
  },
  {
   "cell_type": "markdown",
   "metadata": {},
   "source": [
    "### Challenge 4 We will plot the daily time series for a single turnstile.\n",
    "\n",
    "Select one turnstile (combination of [C/A, UNIT, SCP, STATION]) Filter your pandas DataFrame so it only represents a single turnstile (make sure that turnstile has entries for multiple days). Using matplotlib, create a plot with the days on the X axis and the daily entries for that turnstile on the Y axis You can use the following as a starting point:\n",
    "\n",
    "plt.figure(figsize=(10,3))\n",
    "plt.plot(<days>,<entries>)"
   ]
  },
  {
   "cell_type": "code",
   "execution_count": 19,
   "metadata": {},
   "outputs": [
    {
     "data": {
      "text/plain": [
       "Text(0.5, 1.0, 'Using 1 turnstile at 59 st')"
      ]
     },
     "execution_count": 19,
     "metadata": {},
     "output_type": "execute_result"
    },
    {
     "data": {
      "image/png": "[encoded data removed]",
      "text/plain": [
       "<Figure size 432x288 with 1 Axes>"
      ]
     },
     "metadata": {
      "needs_background": "light"
     },
     "output_type": "display_data"
    }
   ],
   "source": [
    "#Using the single dataframe from above - single @ 59st\n",
    "plt.plot(single['DATETIME'], single['ENTRIES'])\n",
    "plt.title('Using 1 turnstile at 59 st', weight='bold', size=16)"
   ]
  },
  {
   "cell_type": "markdown",
   "metadata": {},
   "source": [
    "Before grouping all this, we must first remove the cumulative and create a new column with the actual entries"
   ]
  },
  {
   "cell_type": "code",
   "execution_count": 20,
   "metadata": {},
   "outputs": [
    {
     "data": {
      "text/html": [
       "<div>\n",
       "<style scoped>\n",
       "    .dataframe tbody tr th:only-of-type {\n",
       "        vertical-align: middle;\n",
       "    }\n",
       "\n",
       "    .dataframe tbody tr th {\n",
       "        vertical-align: top;\n",
       "    }\n",
       "\n",
       "    .dataframe thead th {\n",
       "        text-align: right;\n",
       "    }\n",
       "</style>\n",
       "<table border=\"1\" class=\"dataframe\">\n",
       "  <thead>\n",
       "    <tr style=\"text-align: right;\">\n",
       "      <th></th>\n",
       "      <th>index</th>\n",
       "      <th>C/A</th>\n",
       "      <th>UNIT</th>\n",
       "      <th>SCP</th>\n",
       "      <th>STATION</th>\n",
       "      <th>LINENAME</th>\n",
       "      <th>DIVISION</th>\n",
       "      <th>DATE</th>\n",
       "      <th>TIME</th>\n",
       "      <th>DESC</th>\n",
       "      <th>ENTRIES</th>\n",
       "      <th>EXITS</th>\n",
       "      <th>DATETIME</th>\n",
       "      <th>Weekday</th>\n",
       "    </tr>\n",
       "  </thead>\n",
       "  <tbody>\n",
       "    <tr>\n",
       "      <th>0</th>\n",
       "      <td>0</td>\n",
       "      <td>A002</td>\n",
       "      <td>R051</td>\n",
       "      <td>02-00-00</td>\n",
       "      <td>59 ST</td>\n",
       "      <td>NQR456W</td>\n",
       "      <td>BMT</td>\n",
       "      <td>2019-07-27</td>\n",
       "      <td>0</td>\n",
       "      <td>REGULAR</td>\n",
       "      <td>7148288</td>\n",
       "      <td>2418935</td>\n",
       "      <td>2019-07-27</td>\n",
       "      <td>Sat</td>\n",
       "    </tr>\n",
       "    <tr>\n",
       "      <th>1</th>\n",
       "      <td>112391</td>\n",
       "      <td>N605</td>\n",
       "      <td>R024</td>\n",
       "      <td>00-05-01</td>\n",
       "      <td>SUTPHIN-ARCHER</td>\n",
       "      <td>EJZ</td>\n",
       "      <td>IND</td>\n",
       "      <td>2019-07-27</td>\n",
       "      <td>0</td>\n",
       "      <td>REGULAR</td>\n",
       "      <td>0</td>\n",
       "      <td>1168</td>\n",
       "      <td>2019-07-27</td>\n",
       "      <td>Sat</td>\n",
       "    </tr>\n",
       "    <tr>\n",
       "      <th>2</th>\n",
       "      <td>112349</td>\n",
       "      <td>N605</td>\n",
       "      <td>R024</td>\n",
       "      <td>00-05-00</td>\n",
       "      <td>SUTPHIN-ARCHER</td>\n",
       "      <td>EJZ</td>\n",
       "      <td>IND</td>\n",
       "      <td>2019-07-27</td>\n",
       "      <td>0</td>\n",
       "      <td>REGULAR</td>\n",
       "      <td>33556743</td>\n",
       "      <td>16777216</td>\n",
       "      <td>2019-07-27</td>\n",
       "      <td>Sat</td>\n",
       "    </tr>\n",
       "    <tr>\n",
       "      <th>3</th>\n",
       "      <td>198692</td>\n",
       "      <td>R612</td>\n",
       "      <td>R057</td>\n",
       "      <td>01-03-03</td>\n",
       "      <td>ATL AV-BARCLAY</td>\n",
       "      <td>BDNQR2345</td>\n",
       "      <td>IRT</td>\n",
       "      <td>2019-07-27</td>\n",
       "      <td>0</td>\n",
       "      <td>REGULAR</td>\n",
       "      <td>2120496</td>\n",
       "      <td>1957954</td>\n",
       "      <td>2019-07-27</td>\n",
       "      <td>Sat</td>\n",
       "    </tr>\n",
       "    <tr>\n",
       "      <th>4</th>\n",
       "      <td>112307</td>\n",
       "      <td>N605</td>\n",
       "      <td>R024</td>\n",
       "      <td>00-00-06</td>\n",
       "      <td>SUTPHIN-ARCHER</td>\n",
       "      <td>EJZ</td>\n",
       "      <td>IND</td>\n",
       "      <td>2019-07-27</td>\n",
       "      <td>0</td>\n",
       "      <td>REGULAR</td>\n",
       "      <td>5050187</td>\n",
       "      <td>2146519</td>\n",
       "      <td>2019-07-27</td>\n",
       "      <td>Sat</td>\n",
       "    </tr>\n",
       "  </tbody>\n",
       "</table>\n",
       "</div>"
      ],
      "text/plain": [
       "    index   C/A  UNIT       SCP         STATION   LINENAME DIVISION  \\\n",
       "0       0  A002  R051  02-00-00           59 ST    NQR456W      BMT   \n",
       "1  112391  N605  R024  00-05-01  SUTPHIN-ARCHER        EJZ      IND   \n",
       "2  112349  N605  R024  00-05-00  SUTPHIN-ARCHER        EJZ      IND   \n",
       "3  198692  R612  R057  01-03-03  ATL AV-BARCLAY  BDNQR2345      IRT   \n",
       "4  112307  N605  R024  00-00-06  SUTPHIN-ARCHER        EJZ      IND   \n",
       "\n",
       "        DATE  TIME     DESC   ENTRIES     EXITS   DATETIME Weekday  \n",
       "0 2019-07-27     0  REGULAR   7148288   2418935 2019-07-27     Sat  \n",
       "1 2019-07-27     0  REGULAR         0      1168 2019-07-27     Sat  \n",
       "2 2019-07-27     0  REGULAR  33556743  16777216 2019-07-27     Sat  \n",
       "3 2019-07-27     0  REGULAR   2120496   1957954 2019-07-27     Sat  \n",
       "4 2019-07-27     0  REGULAR   5050187   2146519 2019-07-27     Sat  "
      ]
     },
     "execution_count": 20,
     "metadata": {},
     "output_type": "execute_result"
    }
   ],
   "source": [
    "turns_sort = turns_df.sort_values(by=['DATETIME']).reset_index()\n",
    "turns_sort.head()"
   ]
  },
  {
   "cell_type": "code",
   "execution_count": 21,
   "metadata": {},
   "outputs": [],
   "source": [
    "turns_sort['Entry_Diff']=turns_sort.groupby(['STATION','UNIT','SCP'])['ENTRIES'].diff(1)\n",
    "turns_sort['Exit_Diff']=turns_sort.groupby(['STATION','UNIT','SCP'])['EXITS'].diff(1)\n"
   ]
  },
  {
   "cell_type": "code",
   "execution_count": 22,
   "metadata": {
    "scrolled": true
   },
   "outputs": [
    {
     "data": {
      "text/html": [
       "<div>\n",
       "<style scoped>\n",
       "    .dataframe tbody tr th:only-of-type {\n",
       "        vertical-align: middle;\n",
       "    }\n",
       "\n",
       "    .dataframe tbody tr th {\n",
       "        vertical-align: top;\n",
       "    }\n",
       "\n",
       "    .dataframe thead th {\n",
       "        text-align: right;\n",
       "    }\n",
       "</style>\n",
       "<table border=\"1\" class=\"dataframe\">\n",
       "  <thead>\n",
       "    <tr style=\"text-align: right;\">\n",
       "      <th></th>\n",
       "      <th>index</th>\n",
       "      <th>C/A</th>\n",
       "      <th>UNIT</th>\n",
       "      <th>SCP</th>\n",
       "      <th>STATION</th>\n",
       "      <th>LINENAME</th>\n",
       "      <th>DIVISION</th>\n",
       "      <th>DATE</th>\n",
       "      <th>TIME</th>\n",
       "      <th>DESC</th>\n",
       "      <th>ENTRIES</th>\n",
       "      <th>EXITS</th>\n",
       "      <th>DATETIME</th>\n",
       "      <th>Weekday</th>\n",
       "      <th>Entry_Diff</th>\n",
       "      <th>Exit_Diff</th>\n",
       "    </tr>\n",
       "  </thead>\n",
       "  <tbody>\n",
       "    <tr>\n",
       "      <th>0</th>\n",
       "      <td>0</td>\n",
       "      <td>A002</td>\n",
       "      <td>R051</td>\n",
       "      <td>02-00-00</td>\n",
       "      <td>59 ST</td>\n",
       "      <td>NQR456W</td>\n",
       "      <td>BMT</td>\n",
       "      <td>2019-07-27</td>\n",
       "      <td>0</td>\n",
       "      <td>REGULAR</td>\n",
       "      <td>7148288</td>\n",
       "      <td>2418935</td>\n",
       "      <td>2019-07-27</td>\n",
       "      <td>Sat</td>\n",
       "      <td>NaN</td>\n",
       "      <td>NaN</td>\n",
       "    </tr>\n",
       "    <tr>\n",
       "      <th>556</th>\n",
       "      <td>164648</td>\n",
       "      <td>R245A</td>\n",
       "      <td>R051</td>\n",
       "      <td>01-00-03</td>\n",
       "      <td>59 ST</td>\n",
       "      <td>456NQRW</td>\n",
       "      <td>IRT</td>\n",
       "      <td>2019-07-27</td>\n",
       "      <td>0</td>\n",
       "      <td>REGULAR</td>\n",
       "      <td>3007547</td>\n",
       "      <td>6082904</td>\n",
       "      <td>2019-07-27</td>\n",
       "      <td>Sat</td>\n",
       "      <td>NaN</td>\n",
       "      <td>NaN</td>\n",
       "    </tr>\n",
       "    <tr>\n",
       "      <th>557</th>\n",
       "      <td>164606</td>\n",
       "      <td>R245A</td>\n",
       "      <td>R051</td>\n",
       "      <td>01-00-02</td>\n",
       "      <td>59 ST</td>\n",
       "      <td>456NQRW</td>\n",
       "      <td>IRT</td>\n",
       "      <td>2019-07-27</td>\n",
       "      <td>0</td>\n",
       "      <td>REGULAR</td>\n",
       "      <td>146208</td>\n",
       "      <td>278573</td>\n",
       "      <td>2019-07-27</td>\n",
       "      <td>Sat</td>\n",
       "      <td>NaN</td>\n",
       "      <td>NaN</td>\n",
       "    </tr>\n",
       "    <tr>\n",
       "      <th>558</th>\n",
       "      <td>164564</td>\n",
       "      <td>R245A</td>\n",
       "      <td>R051</td>\n",
       "      <td>01-00-01</td>\n",
       "      <td>59 ST</td>\n",
       "      <td>456NQRW</td>\n",
       "      <td>IRT</td>\n",
       "      <td>2019-07-27</td>\n",
       "      <td>0</td>\n",
       "      <td>REGULAR</td>\n",
       "      <td>226746</td>\n",
       "      <td>132393</td>\n",
       "      <td>2019-07-27</td>\n",
       "      <td>Sat</td>\n",
       "      <td>NaN</td>\n",
       "      <td>NaN</td>\n",
       "    </tr>\n",
       "    <tr>\n",
       "      <th>559</th>\n",
       "      <td>164522</td>\n",
       "      <td>R245A</td>\n",
       "      <td>R051</td>\n",
       "      <td>01-00-00</td>\n",
       "      <td>59 ST</td>\n",
       "      <td>456NQRW</td>\n",
       "      <td>IRT</td>\n",
       "      <td>2019-07-27</td>\n",
       "      <td>0</td>\n",
       "      <td>REGULAR</td>\n",
       "      <td>12866335</td>\n",
       "      <td>4573025</td>\n",
       "      <td>2019-07-27</td>\n",
       "      <td>Sat</td>\n",
       "      <td>NaN</td>\n",
       "      <td>NaN</td>\n",
       "    </tr>\n",
       "  </tbody>\n",
       "</table>\n",
       "</div>"
      ],
      "text/plain": [
       "      index    C/A  UNIT       SCP STATION LINENAME DIVISION       DATE  TIME  \\\n",
       "0         0   A002  R051  02-00-00   59 ST  NQR456W      BMT 2019-07-27     0   \n",
       "556  164648  R245A  R051  01-00-03   59 ST  456NQRW      IRT 2019-07-27     0   \n",
       "557  164606  R245A  R051  01-00-02   59 ST  456NQRW      IRT 2019-07-27     0   \n",
       "558  164564  R245A  R051  01-00-01   59 ST  456NQRW      IRT 2019-07-27     0   \n",
       "559  164522  R245A  R051  01-00-00   59 ST  456NQRW      IRT 2019-07-27     0   \n",
       "\n",
       "        DESC   ENTRIES    EXITS   DATETIME Weekday  Entry_Diff  Exit_Diff  \n",
       "0    REGULAR   7148288  2418935 2019-07-27     Sat         NaN        NaN  \n",
       "556  REGULAR   3007547  6082904 2019-07-27     Sat         NaN        NaN  \n",
       "557  REGULAR    146208   278573 2019-07-27     Sat         NaN        NaN  \n",
       "558  REGULAR    226746   132393 2019-07-27     Sat         NaN        NaN  \n",
       "559  REGULAR  12866335  4573025 2019-07-27     Sat         NaN        NaN  "
      ]
     },
     "execution_count": 22,
     "metadata": {},
     "output_type": "execute_result"
    }
   ],
   "source": [
    "turns_sort[turns_sort['UNIT']=='R051'].head(5)"
   ]
  },
  {
   "cell_type": "markdown",
   "metadata": {},
   "source": [
    "# Do a bit Cleaning!"
   ]
  },
  {
   "cell_type": "code",
   "execution_count": 23,
   "metadata": {},
   "outputs": [
    {
     "data": {
      "text/html": [
       "<div>\n",
       "<style scoped>\n",
       "    .dataframe tbody tr th:only-of-type {\n",
       "        vertical-align: middle;\n",
       "    }\n",
       "\n",
       "    .dataframe tbody tr th {\n",
       "        vertical-align: top;\n",
       "    }\n",
       "\n",
       "    .dataframe thead th {\n",
       "        text-align: right;\n",
       "    }\n",
       "</style>\n",
       "<table border=\"1\" class=\"dataframe\">\n",
       "  <thead>\n",
       "    <tr style=\"text-align: right;\">\n",
       "      <th></th>\n",
       "      <th>index</th>\n",
       "      <th>C/A</th>\n",
       "      <th>UNIT</th>\n",
       "      <th>SCP</th>\n",
       "      <th>STATION</th>\n",
       "      <th>LINENAME</th>\n",
       "      <th>DIVISION</th>\n",
       "      <th>DATE</th>\n",
       "      <th>TIME</th>\n",
       "      <th>DESC</th>\n",
       "      <th>ENTRIES</th>\n",
       "      <th>EXITS</th>\n",
       "      <th>DATETIME</th>\n",
       "      <th>Weekday</th>\n",
       "      <th>Entry_Diff</th>\n",
       "      <th>Exit_Diff</th>\n",
       "    </tr>\n",
       "  </thead>\n",
       "  <tbody>\n",
       "    <tr>\n",
       "      <th>6824</th>\n",
       "      <td>164439</td>\n",
       "      <td>R245</td>\n",
       "      <td>R051</td>\n",
       "      <td>00-05-01</td>\n",
       "      <td>59 ST</td>\n",
       "      <td>456NQRW</td>\n",
       "      <td>IRT</td>\n",
       "      <td>2019-07-27</td>\n",
       "      <td>4</td>\n",
       "      <td>REGULAR</td>\n",
       "      <td>13199310</td>\n",
       "      <td>5622440</td>\n",
       "      <td>2019-07-27 04:00:00</td>\n",
       "      <td>Sat</td>\n",
       "      <td>67.0</td>\n",
       "      <td>12.0</td>\n",
       "    </tr>\n",
       "    <tr>\n",
       "      <th>11384</th>\n",
       "      <td>164440</td>\n",
       "      <td>R245</td>\n",
       "      <td>R051</td>\n",
       "      <td>00-05-01</td>\n",
       "      <td>59 ST</td>\n",
       "      <td>456NQRW</td>\n",
       "      <td>IRT</td>\n",
       "      <td>2019-07-27</td>\n",
       "      <td>8</td>\n",
       "      <td>REGULAR</td>\n",
       "      <td>13199404</td>\n",
       "      <td>5622473</td>\n",
       "      <td>2019-07-27 08:00:00</td>\n",
       "      <td>Sat</td>\n",
       "      <td>94.0</td>\n",
       "      <td>33.0</td>\n",
       "    </tr>\n",
       "    <tr>\n",
       "      <th>14908</th>\n",
       "      <td>164441</td>\n",
       "      <td>R245</td>\n",
       "      <td>R051</td>\n",
       "      <td>00-05-01</td>\n",
       "      <td>59 ST</td>\n",
       "      <td>456NQRW</td>\n",
       "      <td>IRT</td>\n",
       "      <td>2019-07-27</td>\n",
       "      <td>12</td>\n",
       "      <td>REGULAR</td>\n",
       "      <td>13199554</td>\n",
       "      <td>5622540</td>\n",
       "      <td>2019-07-27 12:00:00</td>\n",
       "      <td>Sat</td>\n",
       "      <td>150.0</td>\n",
       "      <td>67.0</td>\n",
       "    </tr>\n",
       "    <tr>\n",
       "      <th>19846</th>\n",
       "      <td>164442</td>\n",
       "      <td>R245</td>\n",
       "      <td>R051</td>\n",
       "      <td>00-05-01</td>\n",
       "      <td>59 ST</td>\n",
       "      <td>456NQRW</td>\n",
       "      <td>IRT</td>\n",
       "      <td>2019-07-27</td>\n",
       "      <td>16</td>\n",
       "      <td>REGULAR</td>\n",
       "      <td>13199751</td>\n",
       "      <td>5622594</td>\n",
       "      <td>2019-07-27 16:00:00</td>\n",
       "      <td>Sat</td>\n",
       "      <td>197.0</td>\n",
       "      <td>54.0</td>\n",
       "    </tr>\n",
       "    <tr>\n",
       "      <th>26651</th>\n",
       "      <td>164443</td>\n",
       "      <td>R245</td>\n",
       "      <td>R051</td>\n",
       "      <td>00-05-01</td>\n",
       "      <td>59 ST</td>\n",
       "      <td>456NQRW</td>\n",
       "      <td>IRT</td>\n",
       "      <td>2019-07-27</td>\n",
       "      <td>20</td>\n",
       "      <td>REGULAR</td>\n",
       "      <td>13200008</td>\n",
       "      <td>5622646</td>\n",
       "      <td>2019-07-27 20:00:00</td>\n",
       "      <td>Sat</td>\n",
       "      <td>257.0</td>\n",
       "      <td>52.0</td>\n",
       "    </tr>\n",
       "  </tbody>\n",
       "</table>\n",
       "</div>"
      ],
      "text/plain": [
       "        index   C/A  UNIT       SCP STATION LINENAME DIVISION       DATE  \\\n",
       "6824   164439  R245  R051  00-05-01   59 ST  456NQRW      IRT 2019-07-27   \n",
       "11384  164440  R245  R051  00-05-01   59 ST  456NQRW      IRT 2019-07-27   \n",
       "14908  164441  R245  R051  00-05-01   59 ST  456NQRW      IRT 2019-07-27   \n",
       "19846  164442  R245  R051  00-05-01   59 ST  456NQRW      IRT 2019-07-27   \n",
       "26651  164443  R245  R051  00-05-01   59 ST  456NQRW      IRT 2019-07-27   \n",
       "\n",
       "       TIME     DESC   ENTRIES    EXITS            DATETIME Weekday  \\\n",
       "6824      4  REGULAR  13199310  5622440 2019-07-27 04:00:00     Sat   \n",
       "11384     8  REGULAR  13199404  5622473 2019-07-27 08:00:00     Sat   \n",
       "14908    12  REGULAR  13199554  5622540 2019-07-27 12:00:00     Sat   \n",
       "19846    16  REGULAR  13199751  5622594 2019-07-27 16:00:00     Sat   \n",
       "26651    20  REGULAR  13200008  5622646 2019-07-27 20:00:00     Sat   \n",
       "\n",
       "       Entry_Diff  Exit_Diff  \n",
       "6824         67.0       12.0  \n",
       "11384        94.0       33.0  \n",
       "14908       150.0       67.0  \n",
       "19846       197.0       54.0  \n",
       "26651       257.0       52.0  "
      ]
     },
     "execution_count": 23,
     "metadata": {},
     "output_type": "execute_result"
    }
   ],
   "source": [
    "#Lets remove the null values\n",
    "turns_sort.dropna(how='any', inplace=True)\n",
    "turns_sort[(turns_sort['UNIT']=='R051') &\\\n",
    "          (turns_sort['SCP']=='00-05-01')].head(5)"
   ]
  },
  {
   "cell_type": "markdown",
   "metadata": {},
   "source": [
    "#### Now lets look for weird values that don't make sense and see how we can either remove or change"
   ]
  },
  {
   "cell_type": "code",
   "execution_count": 25,
   "metadata": {},
   "outputs": [
    {
     "data": {
      "text/plain": [
       "16667"
      ]
     },
     "execution_count": 25,
     "metadata": {},
     "output_type": "execute_result"
    }
   ],
   "source": [
    "turns_sort[turns_sort['Entry_Diff']<0]['STATION'].count() "
   ]
  },
  {
   "cell_type": "markdown",
   "metadata": {},
   "source": [
    "Looking at the MTA site, they say this happens when turnstile goes in reverse. To remedy this we'll just take the absolute value"
   ]
  },
  {
   "cell_type": "code",
   "execution_count": 26,
   "metadata": {},
   "outputs": [
    {
     "data": {
      "text/plain": [
       "0"
      ]
     },
     "execution_count": 26,
     "metadata": {},
     "output_type": "execute_result"
    }
   ],
   "source": [
    "turns_sort['Entry_Diff'] = abs(turns_sort['Entry_Diff'])\n",
    "turns_sort['Exit_Diff']=abs(turns_sort['Exit_Diff'])\n",
    "turns_sort[turns_sort['Entry_Diff']<0]['STATION'].count()"
   ]
  },
  {
   "cell_type": "code",
   "execution_count": 27,
   "metadata": {},
   "outputs": [
    {
     "data": {
      "text/plain": [
       "STATION       240\n",
       "UNIT          240\n",
       "SCP           240\n",
       "C/A           240\n",
       "DATETIME      240\n",
       "DATE          240\n",
       "Entry_Diff    240\n",
       "dtype: int64"
      ]
     },
     "execution_count": 27,
     "metadata": {},
     "output_type": "execute_result"
    }
   ],
   "source": [
    "turns_out = turns_sort.groupby(['STATION','UNIT','SCP','C/A', 'DATETIME', 'DATE'])['Entry_Diff'].sum().reset_index()\n",
    "turns_out[turns_out['Entry_Diff']>8000].count()"
   ]
  },
  {
   "cell_type": "markdown",
   "metadata": {},
   "source": [
    "Looks like something weird happened around August 28.  Either way, assuming that a max of 2000 people can go thru a turnstile in 1 hour, can assume that iin a 4 hour window, it would be impossible for more than 8000 people to go enter.  Will remove rows with that condition"
   ]
  },
  {
   "cell_type": "code",
   "execution_count": 28,
   "metadata": {},
   "outputs": [
    {
     "data": {
      "text/plain": [
       "STATION       0\n",
       "UNIT          0\n",
       "SCP           0\n",
       "C/A           0\n",
       "DATETIME      0\n",
       "DATE          0\n",
       "Entry_Diff    0\n",
       "dtype: int64"
      ]
     },
     "execution_count": 28,
     "metadata": {},
     "output_type": "execute_result"
    }
   ],
   "source": [
    "\n",
    "turns_out = turns_out[turns_out['Entry_Diff']<8000]\n",
    "turns_out[turns_out['Entry_Diff']>8000].count()"
   ]
  },
  {
   "cell_type": "code",
   "execution_count": 29,
   "metadata": {},
   "outputs": [],
   "source": [
    "turns_clean = turns_out.copy()"
   ]
  },
  {
   "cell_type": "markdown",
   "metadata": {},
   "source": [
    "### Challenge 5 \n",
    "So far we've been operating on a single turnstile level, let's combine turnstiles in the same ControlArea/Unit/Station combo. There are some ControlArea/Unit/Station groups that have a single turnstile, but most have multiple turnstiles-- same value for the C/A, UNIT and STATION columns, different values for the SCP column. We want to combine the numbers together -- for each ControlArea/UNIT/STATION combo, for each day, sum the counts from each turnstile belonging to that combo. (hint: pd.groupby)"
   ]
  },
  {
   "cell_type": "code",
   "execution_count": 30,
   "metadata": {},
   "outputs": [],
   "source": [
    "turns_group = turns_clean.groupby(['C/A', 'UNIT', 'STATION', 'DATE']).sum().reset_index()\n",
    "turns_group['DATE']= pd.to_datetime(turns_group['DATE'])"
   ]
  },
  {
   "cell_type": "code",
   "execution_count": 31,
   "metadata": {},
   "outputs": [
    {
     "data": {
      "text/html": [
       "<div>\n",
       "<style scoped>\n",
       "    .dataframe tbody tr th:only-of-type {\n",
       "        vertical-align: middle;\n",
       "    }\n",
       "\n",
       "    .dataframe tbody tr th {\n",
       "        vertical-align: top;\n",
       "    }\n",
       "\n",
       "    .dataframe thead th {\n",
       "        text-align: right;\n",
       "    }\n",
       "</style>\n",
       "<table border=\"1\" class=\"dataframe\">\n",
       "  <thead>\n",
       "    <tr style=\"text-align: right;\">\n",
       "      <th></th>\n",
       "      <th>C/A</th>\n",
       "      <th>UNIT</th>\n",
       "      <th>STATION</th>\n",
       "      <th>DATE</th>\n",
       "      <th>Entry_Diff</th>\n",
       "    </tr>\n",
       "  </thead>\n",
       "  <tbody>\n",
       "  </tbody>\n",
       "</table>\n",
       "</div>"
      ],
      "text/plain": [
       "Empty DataFrame\n",
       "Columns: [C/A, UNIT, STATION, DATE, Entry_Diff]\n",
       "Index: []"
      ]
     },
     "execution_count": 31,
     "metadata": {},
     "output_type": "execute_result"
    }
   ],
   "source": [
    "(turns_group[turns_group['DATE']=='2016-09-08'].\n",
    " sort_values(by='Entry_Diff', ascending=False).head(15))"
   ]
  },
  {
   "cell_type": "code",
   "execution_count": null,
   "metadata": {},
   "outputs": [],
   "source": []
  },
  {
   "cell_type": "markdown",
   "metadata": {},
   "source": [
    "### Challenge 6 \n",
    "Similarly, combine everything in each station, and come up with daily time series for each STATION, by adding up all the turnstiles in a station"
   ]
  },
  {
   "cell_type": "markdown",
   "metadata": {},
   "source": []
  },
  {
   "cell_type": "markdown",
   "metadata": {},
   "source": [
    "### Challenge 7 Plot the daily time series for a station."
   ]
  },
  {
   "cell_type": "markdown",
   "metadata": {},
   "source": []
  },
  {
   "cell_type": "markdown",
   "metadata": {},
   "source": [
    "### Challenge 8 Make one list of counts for one week for one station. \n",
    "Monday's count, Tuesday's count, etc. so it's a list of 7 counts. Make the same list for another week, and another week, and another week. (hint: pandas datetime day of week may be useful) plt.plot(week_count_list) for every week_count_list you created this way. You should get a rainbow plot of weekly commute numbers on top of each other."
   ]
  },
  {
   "cell_type": "code",
   "execution_count": 32,
   "metadata": {},
   "outputs": [],
   "source": [
    "def Add_Weekday(data_frame, column='DATE'):\n",
    "\n",
    "    dmap = {0:'Mon', 1: 'Tue', 2: 'Wed', 3:'Thu', 4:'Fri', 5:'Sat', 6:'Sun'}\n",
    "    data_frame['Day_Number'] = data_frame[column].apply(lambda x: x.dayofweek)\n",
    "    data_frame['Week'] = data_frame[column].apply(lambda x: x.week)\n",
    "    data_frame['Weekday'] = data_frame['Day_Number'].map(dmap)\n",
    "    return data_frame"
   ]
  },
  {
   "cell_type": "code",
   "execution_count": 33,
   "metadata": {},
   "outputs": [
    {
     "data": {
      "text/html": [
       "<div>\n",
       "<style scoped>\n",
       "    .dataframe tbody tr th:only-of-type {\n",
       "        vertical-align: middle;\n",
       "    }\n",
       "\n",
       "    .dataframe tbody tr th {\n",
       "        vertical-align: top;\n",
       "    }\n",
       "\n",
       "    .dataframe thead th {\n",
       "        text-align: right;\n",
       "    }\n",
       "</style>\n",
       "<table border=\"1\" class=\"dataframe\">\n",
       "  <thead>\n",
       "    <tr style=\"text-align: right;\">\n",
       "      <th></th>\n",
       "      <th>C/A</th>\n",
       "      <th>UNIT</th>\n",
       "      <th>STATION</th>\n",
       "      <th>DATE</th>\n",
       "      <th>Entry_Diff</th>\n",
       "      <th>Day_Number</th>\n",
       "      <th>Week</th>\n",
       "      <th>Weekday</th>\n",
       "    </tr>\n",
       "  </thead>\n",
       "  <tbody>\n",
       "    <tr>\n",
       "      <th>0</th>\n",
       "      <td>A002</td>\n",
       "      <td>R051</td>\n",
       "      <td>59 ST</td>\n",
       "      <td>2019-07-27</td>\n",
       "      <td>6018.0</td>\n",
       "      <td>5</td>\n",
       "      <td>30</td>\n",
       "      <td>Sat</td>\n",
       "    </tr>\n",
       "    <tr>\n",
       "      <th>1</th>\n",
       "      <td>A002</td>\n",
       "      <td>R051</td>\n",
       "      <td>59 ST</td>\n",
       "      <td>2019-07-28</td>\n",
       "      <td>6482.0</td>\n",
       "      <td>6</td>\n",
       "      <td>30</td>\n",
       "      <td>Sun</td>\n",
       "    </tr>\n",
       "  </tbody>\n",
       "</table>\n",
       "</div>"
      ],
      "text/plain": [
       "    C/A  UNIT STATION       DATE  Entry_Diff  Day_Number  Week Weekday\n",
       "0  A002  R051   59 ST 2019-07-27      6018.0           5    30     Sat\n",
       "1  A002  R051   59 ST 2019-07-28      6482.0           6    30     Sun"
      ]
     },
     "execution_count": 33,
     "metadata": {},
     "output_type": "execute_result"
    }
   ],
   "source": [
    "turns_group = Add_Weekday(turns_group)\n",
    "turns_group.head(2)"
   ]
  },
  {
   "cell_type": "code",
   "execution_count": 34,
   "metadata": {
    "scrolled": true
   },
   "outputs": [
    {
     "data": {
      "text/plain": [
       "<matplotlib.axes._subplots.AxesSubplot at 0x7f8bfb9cc820>"
      ]
     },
     "execution_count": 34,
     "metadata": {},
     "output_type": "execute_result"
    },
    {
     "data": {
      "image/png": "[encoded data removed]",
      "text/plain": [
       "<Figure size 432x288 with 1 Axes>"
      ]
     },
     "metadata": {
      "needs_background": "light"
     },
     "output_type": "display_data"
    }
   ],
   "source": [
    "sns.distplot(turns_group['Entry_Diff'])"
   ]
  },
  {
   "cell_type": "code",
   "execution_count": 35,
   "metadata": {},
   "outputs": [],
   "source": [
    "#Look at week 35\n",
    "turns_35 = turns_group[turns_group['Week']==35]"
   ]
  },
  {
   "cell_type": "code",
   "execution_count": 36,
   "metadata": {
    "scrolled": true
   },
   "outputs": [
    {
     "data": {
      "text/plain": [
       "<matplotlib.axes._subplots.AxesSubplot at 0x7f8ba19ee7c0>"
      ]
     },
     "execution_count": 36,
     "metadata": {},
     "output_type": "execute_result"
    },
    {
     "data": {
      "image/png": "[encoded data removed]",
      "text/plain": [
       "<Figure size 432x288 with 1 Axes>"
      ]
     },
     "metadata": {
      "needs_background": "light"
     },
     "output_type": "display_data"
    }
   ],
   "source": [
    "turns_35.groupby(['Weekday'])['Entry_Diff'].median().plot(kind='bar')"
   ]
  },
  {
   "cell_type": "code",
   "execution_count": 37,
   "metadata": {},
   "outputs": [],
   "source": [
    "x = turns_35.groupby([\"STATION\", 'Weekday'])['Entry_Diff'].median().reset_index()\n",
    "#(x='Weekday', y=x['Entry_Diff'], data=x, hue='STATION')\n",
    "x = x.sort_values(by='STATION')"
   ]
  },
  {
   "cell_type": "code",
   "execution_count": 38,
   "metadata": {},
   "outputs": [
    {
     "data": {
      "text/plain": [
       "<matplotlib.axes._subplots.AxesSubplot at 0x7f8ba18c95b0>"
      ]
     },
     "execution_count": 38,
     "metadata": {},
     "output_type": "execute_result"
    },
    {
     "data": {
      "image/png": "[encoded data removed]",
      "text/plain": [
       "<Figure size 432x288 with 2 Axes>"
      ]
     },
     "metadata": {
      "needs_background": "light"
     },
     "output_type": "display_data"
    }
   ],
   "source": [
    "\n",
    "heatmap1_data = pd.pivot_table(x, values='Entry_Diff', \n",
    "                     index=['STATION'], \n",
    "                     columns='Weekday')\n",
    "sns.heatmap(heatmap1_data)"
   ]
  },
  {
   "cell_type": "code",
   "execution_count": null,
   "metadata": {},
   "outputs": [],
   "source": []
  },
  {
   "cell_type": "markdown",
   "metadata": {},
   "source": [
    "### Challenge 9 Over multiple weeks, sum total ridership for each station and sort them, so you can find out the stations with the highest traffic during the time you investigate Challenge 10 \n",
    "\n",
    "Make a single list of these total ridership values and plot it with\n",
    "\n",
    "plt.hist(total_ridership_counts)\n",
    "\n",
    "to get an idea about the distribution of total ridership among different stations.\n",
    "\n",
    "This should show you that most stations have a small traffic, and the histogram bins for large traffic volumes have small bars.\n",
    "\n",
    "Additional Hint:\n",
    "\n",
    "If you want to see which stations take the meat of the traffic, you can sort the total ridership counts and make a plt.bar graph. For this, you want to have two lists: the indices of each bar, and the values. The indices can just be 0,1,2,3,..., so you can do"
   ]
  },
  {
   "cell_type": "code",
   "execution_count": 39,
   "metadata": {},
   "outputs": [],
   "source": [
    "turns_station = turns_group.groupby([\"STATION\"])['Entry_Diff'].sum().reset_index()"
   ]
  },
  {
   "cell_type": "code",
   "execution_count": 40,
   "metadata": {},
   "outputs": [
    {
     "data": {
      "text/plain": [
       "<matplotlib.axes._subplots.AxesSubplot at 0x7f8ba1ab26a0>"
      ]
     },
     "execution_count": 40,
     "metadata": {},
     "output_type": "execute_result"
    },
    {
     "data": {
      "image/png": "[encoded data removed]",
      "text/plain": [
       "<Figure size 432x288 with 1 Axes>"
      ]
     },
     "metadata": {
      "needs_background": "light"
     },
     "output_type": "display_data"
    }
   ],
   "source": [
    "sns.distplot(turns_station['Entry_Diff'])"
   ]
  },
  {
   "cell_type": "markdown",
   "metadata": {},
   "source": [
    "### Using this other technique to rank by Station using the rank function: "
   ]
  },
  {
   "cell_type": "code",
   "execution_count": 41,
   "metadata": {},
   "outputs": [
    {
     "data": {
      "text/html": [
       "<div>\n",
       "<style scoped>\n",
       "    .dataframe tbody tr th:only-of-type {\n",
       "        vertical-align: middle;\n",
       "    }\n",
       "\n",
       "    .dataframe tbody tr th {\n",
       "        vertical-align: top;\n",
       "    }\n",
       "\n",
       "    .dataframe thead th {\n",
       "        text-align: right;\n",
       "    }\n",
       "</style>\n",
       "<table border=\"1\" class=\"dataframe\">\n",
       "  <thead>\n",
       "    <tr style=\"text-align: right;\">\n",
       "      <th></th>\n",
       "      <th>STATION</th>\n",
       "      <th>Weekday</th>\n",
       "      <th>Entry_Diff</th>\n",
       "      <th>Traffic_Rank</th>\n",
       "    </tr>\n",
       "  </thead>\n",
       "  <tbody>\n",
       "    <tr>\n",
       "      <th>0</th>\n",
       "      <td>1 AV</td>\n",
       "      <td>Fri</td>\n",
       "      <td>7532.0</td>\n",
       "      <td>77.286470</td>\n",
       "    </tr>\n",
       "    <tr>\n",
       "      <th>1</th>\n",
       "      <td>1 AV</td>\n",
       "      <td>Mon</td>\n",
       "      <td>6881.5</td>\n",
       "      <td>73.318216</td>\n",
       "    </tr>\n",
       "    <tr>\n",
       "      <th>2</th>\n",
       "      <td>1 AV</td>\n",
       "      <td>Sat</td>\n",
       "      <td>2498.5</td>\n",
       "      <td>23.960695</td>\n",
       "    </tr>\n",
       "    <tr>\n",
       "      <th>3</th>\n",
       "      <td>1 AV</td>\n",
       "      <td>Sun</td>\n",
       "      <td>2141.0</td>\n",
       "      <td>19.576720</td>\n",
       "    </tr>\n",
       "    <tr>\n",
       "      <th>4</th>\n",
       "      <td>1 AV</td>\n",
       "      <td>Thu</td>\n",
       "      <td>8161.5</td>\n",
       "      <td>80.423280</td>\n",
       "    </tr>\n",
       "  </tbody>\n",
       "</table>\n",
       "</div>"
      ],
      "text/plain": [
       "  STATION Weekday  Entry_Diff  Traffic_Rank\n",
       "0    1 AV     Fri      7532.0     77.286470\n",
       "1    1 AV     Mon      6881.5     73.318216\n",
       "2    1 AV     Sat      2498.5     23.960695\n",
       "3    1 AV     Sun      2141.0     19.576720\n",
       "4    1 AV     Thu      8161.5     80.423280"
      ]
     },
     "execution_count": 41,
     "metadata": {},
     "output_type": "execute_result"
    }
   ],
   "source": [
    "x['Traffic_Rank'] = x['Entry_Diff'].rank(ascending=True,pct=True)*100\n",
    "x.head()"
   ]
  },
  {
   "cell_type": "code",
   "execution_count": null,
   "metadata": {},
   "outputs": [],
   "source": []
  }
 ],
 "metadata": {
  "kernelspec": {
   "display_name": "Python 3",
   "language": "python",
   "name": "python3"
  },
  "language_info": {
   "codemirror_mode": {
    "name": "ipython",
    "version": 3
   },
   "file_extension": ".py",
   "mimetype": "text/x-python",
   "name": "python",
   "nbconvert_exporter": "python",
   "pygments_lexer": "ipython3",
   "version": "3.8.3"
  }
 },
 "nbformat": 4,
 "nbformat_minor": 4
}
